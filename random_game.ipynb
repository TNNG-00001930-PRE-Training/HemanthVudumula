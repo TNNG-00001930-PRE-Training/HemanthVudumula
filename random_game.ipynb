{
 "cells": [
  {
   "cell_type": "code",
   "execution_count": 7,
   "id": "1c173444-0971-44f6-8b80-ebbd3773c077",
   "metadata": {},
   "outputs": [],
   "source": [
    "import random"
   ]
  },
  {
   "cell_type": "code",
   "execution_count": 14,
   "id": "801bc64f-a295-447a-b7f6-660f87dc4c98",
   "metadata": {},
   "outputs": [],
   "source": [
    "def get_random():\n",
    "    return int(random.random() * 100 + 1)"
   ]
  },
  {
   "cell_type": "code",
   "execution_count": 17,
   "id": "a8498953-ac67-49b9-b839-7723311066c0",
   "metadata": {},
   "outputs": [],
   "source": [
    "def userInput():\n",
    "    while True:\n",
    "        try:\n",
    "            userguess = int(input(\"Guess the number from 1 to 100\"))\n",
    "            break\n",
    "        except ValueError:\n",
    "            print(\"It's not an valid integer, please try again\")\n",
    "    return userguess"
   ]
  },
  {
   "cell_type": "code",
   "execution_count": 22,
   "id": "653d0fea-ebd4-49c2-bef7-154ea90939dc",
   "metadata": {},
   "outputs": [],
   "source": [
    "def start():\n",
    "    print(\"Welcome to the guessing number game\")\n",
    "    print(\"Don't forget you have limited amount of time\")\n",
    "    rand = get_random()\n",
    "    attempt = 0\n",
    "    \n",
    "    while True:\n",
    "        userguess = userInput()\n",
    "        if userguess == rand:\n",
    "            return 1\n",
    "        if userguess > rand:\n",
    "            print(\"your guess is higher than the number\")\n",
    "        if userguess < rand:\n",
    "            print(\"your guess is lower than the number\")\n",
    "        if attempt == 7:\n",
    "            return 2\n",
    "        attempt += 1\n",
    "        "
   ]
  },
  {
   "cell_type": "code",
   "execution_count": 28,
   "id": "d8a181f8-eb3b-4c6b-af84-45a290bd108e",
   "metadata": {},
   "outputs": [
    {
     "name": "stdout",
     "output_type": "stream",
     "text": [
      "Welcome to the guessing number game\n",
      "Don't forget you have limited amount of time\n"
     ]
    },
    {
     "name": "stdin",
     "output_type": "stream",
     "text": [
      "Guess the number from 1 to 100 45\n"
     ]
    },
    {
     "name": "stdout",
     "output_type": "stream",
     "text": [
      "your guess is higher than the number\n"
     ]
    },
    {
     "name": "stdin",
     "output_type": "stream",
     "text": [
      "Guess the number from 1 to 100 45\n"
     ]
    },
    {
     "name": "stdout",
     "output_type": "stream",
     "text": [
      "your guess is higher than the number\n"
     ]
    },
    {
     "name": "stdin",
     "output_type": "stream",
     "text": [
      "Guess the number from 1 to 100 45\n"
     ]
    },
    {
     "name": "stdout",
     "output_type": "stream",
     "text": [
      "your guess is higher than the number\n"
     ]
    },
    {
     "name": "stdin",
     "output_type": "stream",
     "text": [
      "Guess the number from 1 to 100 45\n"
     ]
    },
    {
     "name": "stdout",
     "output_type": "stream",
     "text": [
      "your guess is higher than the number\n"
     ]
    },
    {
     "name": "stdin",
     "output_type": "stream",
     "text": [
      "Guess the number from 1 to 100 45\n"
     ]
    },
    {
     "name": "stdout",
     "output_type": "stream",
     "text": [
      "your guess is higher than the number\n"
     ]
    },
    {
     "name": "stdin",
     "output_type": "stream",
     "text": [
      "Guess the number from 1 to 100 45\n"
     ]
    },
    {
     "name": "stdout",
     "output_type": "stream",
     "text": [
      "your guess is higher than the number\n"
     ]
    },
    {
     "name": "stdin",
     "output_type": "stream",
     "text": [
      "Guess the number from 1 to 100 45\n"
     ]
    },
    {
     "name": "stdout",
     "output_type": "stream",
     "text": [
      "your guess is higher than the number\n"
     ]
    },
    {
     "name": "stdin",
     "output_type": "stream",
     "text": [
      "Guess the number from 1 to 100 45\n"
     ]
    },
    {
     "name": "stdout",
     "output_type": "stream",
     "text": [
      "your guess is higher than the number\n",
      "you reached the maximum attempts\n",
      "Wanna try again?\n"
     ]
    },
    {
     "name": "stdin",
     "output_type": "stream",
     "text": [
      "type Yes to go again or anything else to exit the game 45\n"
     ]
    }
   ],
   "source": [
    "while True:\n",
    "    result = start()\n",
    "    if result == 1:\n",
    "        print(\"you won the game\")\n",
    "    else:\n",
    "        print(\"you reached the maximum attempts\")\n",
    "\n",
    "    print(\"Wanna try again?\")\n",
    "    inp = input(\"type Yes to go again or anything else to exit the game\").strip()\n",
    "    if(inp == \"Yes\" or inp == \"YES\" or inp == \"yes\"):\n",
    "        pass\n",
    "    else:\n",
    "        break\n",
    "    "
   ]
  },
  {
   "cell_type": "code",
   "execution_count": null,
   "id": "052ccb0b-d313-4ed7-aa58-43988ed1f14f",
   "metadata": {},
   "outputs": [],
   "source": []
  }
 ],
 "metadata": {
  "kernelspec": {
   "display_name": "Python 3 (ipykernel)",
   "language": "python",
   "name": "python3"
  },
  "language_info": {
   "codemirror_mode": {
    "name": "ipython",
    "version": 3
   },
   "file_extension": ".py",
   "mimetype": "text/x-python",
   "name": "python",
   "nbconvert_exporter": "python",
   "pygments_lexer": "ipython3",
   "version": "3.12.2"
  }
 },
 "nbformat": 4,
 "nbformat_minor": 5
}

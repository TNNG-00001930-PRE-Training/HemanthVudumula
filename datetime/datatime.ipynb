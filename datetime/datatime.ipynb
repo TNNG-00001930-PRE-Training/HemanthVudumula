{
 "cells": [
  {
   "cell_type": "code",
   "execution_count": null,
   "id": "0b6d3e5e-1fa7-4fab-b0eb-af599bf3ac5d",
   "metadata": {},
   "outputs": [],
   "source": [
    "\n",
    "DateTime - provides classes for manipulating dates and times in python\n",
    " It consists of 4 class\n",
    " datetime, date, time, timedelta \n",
    "\n",
    "\n",
    "\n",
    "default format for the time is \n",
    "year month day hours minutes seconds milliseconds\n"
   ]
  },
  {
   "cell_type": "code",
   "execution_count": 2,
   "id": "b1a871c4-1039-4352-9da6-3874fcabe403",
   "metadata": {},
   "outputs": [],
   "source": [
    "#To use datetime\n",
    "import datetime"
   ]
  },
  {
   "cell_type": "code",
   "execution_count": 3,
   "id": "8036b5ad-e44f-4668-96f6-8169037aee54",
   "metadata": {},
   "outputs": [
    {
     "name": "stdout",
     "output_type": "stream",
     "text": [
      "2024-03-20 13:15:36.664195\n"
     ]
    }
   ],
   "source": [
    "#To create datetime object for the current date and time\n",
    "current_datetime =  datetime.datetime.now()\n",
    "\n",
    "print(current_datetime)"
   ]
  },
  {
   "cell_type": "code",
   "execution_count": 15,
   "id": "246df366-9d54-4c41-999a-95462bc6d72f",
   "metadata": {},
   "outputs": [
    {
     "name": "stdout",
     "output_type": "stream",
     "text": [
      "2024-03-20 00:00:00 \n",
      "\n",
      "2024-03-20 12:45:54.000456\n"
     ]
    }
   ],
   "source": [
    "#Or to create for any specific date and time\n",
    "spec_date = datetime.datetime(2024, 3, 20)\n",
    "print(spec_date , \"\\n\")\n",
    "\n",
    "spec_date = datetime.datetime(2024, 3, 20, 12, 45, 54, 456)\n",
    "print(spec_date)"
   ]
  },
  {
   "cell_type": "code",
   "execution_count": 16,
   "id": "058af2de-ca9a-47bd-b37d-73e1788e400f",
   "metadata": {},
   "outputs": [
    {
     "name": "stdout",
     "output_type": "stream",
     "text": [
      "2024-03-20 \n",
      "\n",
      "2024-01-20\n"
     ]
    }
   ],
   "source": [
    "# Get current date\n",
    "current_date = datetime.datetime.now().date()\n",
    "print(current_date , \"\\n\")\n",
    "\n",
    "\n",
    "specific_date = datetime.datetime(2024, 1, 20).date()\n",
    "\n",
    "print(specific_date)"
   ]
  },
  {
   "cell_type": "code",
   "execution_count": 17,
   "id": "17eb1ae3-3a59-40f3-9570-74e314b5901c",
   "metadata": {},
   "outputs": [
    {
     "name": "stdout",
     "output_type": "stream",
     "text": [
      "13:20:37.688922 \n",
      "\n",
      "12:30:00\n"
     ]
    }
   ],
   "source": [
    "# Get current time\n",
    "current_time = datetime.datetime.now().time()\n",
    "print(current_time, \"\\n\")\n",
    "\n",
    "# Create a specific time\n",
    "specific_time = datetime.datetime(2024, 3, 20, 12, 30, 0).time()\n",
    "\n",
    "print(specific_time)"
   ]
  },
  {
   "cell_type": "code",
   "execution_count": 20,
   "id": "e4d84963-68a6-43e7-8d9f-b20b827c2f35",
   "metadata": {},
   "outputs": [
    {
     "name": "stdout",
     "output_type": "stream",
     "text": [
      "2024\n",
      "3\n",
      "20\n",
      "13\n",
      "22\n",
      "19\n"
     ]
    }
   ],
   "source": [
    "\n",
    "dt = datetime.datetime.now()\n",
    "\n",
    "#want to access specific individual component \n",
    "year = dt.year\n",
    "month = dt.month\n",
    "day = dt.day\n",
    "hour = dt.hour\n",
    "minute = dt.minute\n",
    "second = dt.second\n",
    "\n",
    "print(year)\n",
    "print(month)\n",
    "print(day)\n",
    "print(hour)\n",
    "print(minute)\n",
    "print(second)"
   ]
  },
  {
   "cell_type": "code",
   "execution_count": 21,
   "id": "d0a04342-2f87-4b4c-a8e3-c91de09c4f75",
   "metadata": {},
   "outputs": [
    {
     "name": "stdout",
     "output_type": "stream",
     "text": [
      "dt1 is later than dt2\n"
     ]
    }
   ],
   "source": [
    "#comparing datetime\n",
    "\n",
    "dt1 = datetime.datetime.now()\n",
    "dt2 = datetime.datetime(2024, 3, 20)\n",
    "\n",
    "if dt1 > dt2:\n",
    "    print(\"dt1 is later than dt2\")\n",
    "elif dt1 == dt2:\n",
    "    print(\"dt1 and dt2 are the same\")\n",
    "else:\n",
    "    print(\"dt1 is earlier than dt2\")\n"
   ]
  },
  {
   "cell_type": "code",
   "execution_count": 23,
   "id": "a55913d6-416f-4c9a-b4e3-664ac8d69f41",
   "metadata": {},
   "outputs": [
    {
     "name": "stdout",
     "output_type": "stream",
     "text": [
      "20-03-2024 13:22:19\n"
     ]
    }
   ],
   "source": [
    "#String Formatting:\n",
    "formatted_date = dt.strftime('%d-%m-%Y %H:%M:%S')\n",
    "print(formatted_date)"
   ]
  },
  {
   "cell_type": "code",
   "execution_count": 24,
   "id": "21a4e915-c230-4b5b-813d-7bee04b1ebae",
   "metadata": {},
   "outputs": [
    {
     "name": "stdout",
     "output_type": "stream",
     "text": [
      "2024-03-20 12:30:00\n"
     ]
    }
   ],
   "source": [
    "#String Parsing\n",
    "dt_str = '2024-03-20 12:30:00'\n",
    "dt = datetime.datetime.strptime(dt_str, '%Y-%m-%d %H:%M:%S')\n",
    "print(dt)"
   ]
  },
  {
   "cell_type": "code",
   "execution_count": 26,
   "id": "258d8589-21d2-4118-b131-d2217b952152",
   "metadata": {},
   "outputs": [
    {
     "name": "stdout",
     "output_type": "stream",
     "text": [
      "Wed\n",
      "Wednesday\n"
     ]
    }
   ],
   "source": [
    "print(dt.strftime('%a'))\n",
    "print(dt.strftime('%A'))"
   ]
  },
  {
   "cell_type": "code",
   "execution_count": 34,
   "id": "2a2e4c2a-f083-4a12-b3b9-8778df4cbff2",
   "metadata": {},
   "outputs": [
    {
     "name": "stdout",
     "output_type": "stream",
     "text": [
      "Requirement already satisfied: pytz in c:\\users\\user\\appdata\\local\\programs\\python\\python312\\lib\\site-packages (2024.1)\n"
     ]
    }
   ],
   "source": [
    "#timezones\n",
    "!pip install pytz\n",
    "import pytz\n"
   ]
  },
  {
   "cell_type": "code",
   "execution_count": 32,
   "id": "15ff2767-e236-49bb-808b-3a0516ed2d4a",
   "metadata": {},
   "outputs": [
    {
     "name": "stdout",
     "output_type": "stream",
     "text": [
      "2024-03-20 04:02:44.805545-04:00\n"
     ]
    }
   ],
   "source": [
    "tz = pytz.timezone('America/New_York')\n",
    "dt = datetime.datetime.now(tz)\n",
    "\n",
    "print(dt)\n"
   ]
  },
  {
   "cell_type": "code",
   "execution_count": 33,
   "id": "f6b3ed90-3806-44af-99dc-b71635b80f60",
   "metadata": {},
   "outputs": [
    {
     "name": "stdout",
     "output_type": "stream",
     "text": [
      "2024-03-20 13:32:44.805545+05:30\n"
     ]
    }
   ],
   "source": [
    "intz = pytz.timezone('Asia/Kolkata')\n",
    "dt_utc = dt.astimezone(intz)\n",
    "\n",
    "print(dt_utc)"
   ]
  },
  {
   "cell_type": "code",
   "execution_count": null,
   "id": "d522e397-54c5-4396-9e42-6aa9cd89c75b",
   "metadata": {},
   "outputs": [],
   "source": []
  }
 ],
 "metadata": {
  "kernelspec": {
   "display_name": "Python 3 (ipykernel)",
   "language": "python",
   "name": "python3"
  },
  "language_info": {
   "codemirror_mode": {
    "name": "ipython",
    "version": 3
   },
   "file_extension": ".py",
   "mimetype": "text/x-python",
   "name": "python",
   "nbconvert_exporter": "python",
   "pygments_lexer": "ipython3",
   "version": "3.12.2"
  }
 },
 "nbformat": 4,
 "nbformat_minor": 5
}
